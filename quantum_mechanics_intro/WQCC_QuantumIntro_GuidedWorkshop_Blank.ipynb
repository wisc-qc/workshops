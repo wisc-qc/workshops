{
 "cells": [
  {
   "cell_type": "markdown",
   "metadata": {},
   "source": [
    "# WQCC Introduction to Quantum Mechanics and Solutions to the Schrodinger Equation-Interactive Workshop\n",
    "4/18/2024\n",
    "\n",
    "Authors: Patrick Walsh and Jerry He"
   ]
  },
  {
   "cell_type": "markdown",
   "metadata": {},
   "source": [
    "Welcome to the WQCC intro to quantum workshop! In this guided Jupyter notebook, we will walk you though plotting solutions to the Schrodinger Equation. This will help you visualize and develop your intuition for some of the things we talked about last meeting. Feel free to do as much or as little of the notebook as you want. There are three main sections, and a 4th challenge section at the end. Happy coding!"
   ]
  },
  {
   "cell_type": "code",
   "execution_count": 1,
   "metadata": {},
   "outputs": [],
   "source": [
    "import numpy as np\n",
    "import matplotlib.pyplot as plt\n",
    "import scipy as sp\n",
    "from mpl_toolkits.mplot3d import Axes3D\n",
    "from numpy import linalg as LA"
   ]
  },
  {
   "cell_type": "markdown",
   "metadata": {
    "vscode": {
     "languageId": "plaintext"
    }
   },
   "source": [
    "## Section 1: 1D Particle in an Infinite Potential Well"
   ]
  },
  {
   "cell_type": "markdown",
   "metadata": {},
   "source": [
    "Recall from last time that stationary state solutions for a 1D particle in a box are of the form $$\\phi_n(x) = \\sqrt{\\frac{2}{L}}\\sin\\left(\\frac{n\\pi x}{L}\\right), \\ n = 1, 2, 3, ...$$"
   ]
  },
  {
   "cell_type": "markdown",
   "metadata": {},
   "source": [
    "### Part a\n",
    "Choose a value for L, and plot stationary state solutions for n=1 below. This is the ground state of the system, meaning it is the state with the lowest allowed energy. "
   ]
  },
  {
   "cell_type": "code",
   "execution_count": 2,
   "metadata": {},
   "outputs": [
    {
     "ename": "SyntaxError",
     "evalue": "invalid syntax (3238830386.py, line 1)",
     "output_type": "error",
     "traceback": [
      "\u001b[1;36m  Cell \u001b[1;32mIn[2], line 1\u001b[1;36m\u001b[0m\n\u001b[1;33m    L = ? # Should be on the order of nm\u001b[0m\n\u001b[1;37m        ^\u001b[0m\n\u001b[1;31mSyntaxError\u001b[0m\u001b[1;31m:\u001b[0m invalid syntax\n"
     ]
    }
   ],
   "source": [
    "L = ? # Should be on the order of nm\n",
    "x = np.linspace(0, L, 200)\n",
    "n = 1\n",
    "phi = ?\n",
    "\n",
    "plt.plot(x*1e9, phi)\n",
    "plt.xlabel(\"x (nm)\")\n",
    "plt.ylabel(\"$\\phi_1(x)$\")\n",
    "\n",
    "plt.xlim(0, L*1e9)"
   ]
  },
  {
   "cell_type": "markdown",
   "metadata": {},
   "source": [
    "Now plot the probability distribution as a function of x, for the same n and L. Recall that from a wavefunction $\\Psi$, we can find the probability as $$|\\Psi|^2 = \\Psi^*\\Psi$$\n",
    "How do the two differ? "
   ]
  },
  {
   "cell_type": "code",
   "execution_count": null,
   "metadata": {},
   "outputs": [],
   "source": [
    "# Make you plot here\n"
   ]
  },
  {
   "cell_type": "markdown",
   "metadata": {},
   "source": [
    "Note that the probability distribution looks a little more Gaussian, meaning that the particle is strongly favored to be measured near the middle of the \"box\" at $L/2$. But for both plots (and all others to follow), the function is 0 at either boundary (0 and L). "
   ]
  },
  {
   "cell_type": "markdown",
   "metadata": {},
   "source": [
    "### Part b\n",
    "Now plot both $\\phi_n(x)$ and $|\\phi_n(x)|^2$ for the same value of L, but n=2. Again, what chages when going from $\\phi_n(x)$ to $|\\phi_n(x)|^2$?"
   ]
  },
  {
   "cell_type": "code",
   "execution_count": null,
   "metadata": {},
   "outputs": [],
   "source": [
    "# Make you plot here\n"
   ]
  },
  {
   "cell_type": "markdown",
   "metadata": {},
   "source": [
    "Hopefully you noticed that while the wavefunction $\\phi$ went negative, the probability distribution is always positive. "
   ]
  },
  {
   "cell_type": "markdown",
   "metadata": {},
   "source": [
    "### Part c\n",
    "Now lets look at n=5. Make the same two plots as above. Do you start to notice any patterns about how the probability distribution depends on n?"
   ]
  },
  {
   "cell_type": "code",
   "execution_count": null,
   "metadata": {},
   "outputs": [],
   "source": [
    "# Make you plot here\n"
   ]
  },
  {
   "cell_type": "markdown",
   "metadata": {},
   "source": [
    "To help make this more clear, lets plot the probability distribution for n=1, through n=9 on the same figure, using subplots. "
   ]
  },
  {
   "cell_type": "code",
   "execution_count": 29,
   "metadata": {},
   "outputs": [
    {
     "ename": "SyntaxError",
     "evalue": "invalid syntax (1415654150.py, line 10)",
     "output_type": "error",
     "traceback": [
      "\u001b[1;36m  Cell \u001b[1;32mIn[29], line 10\u001b[1;36m\u001b[0m\n\u001b[1;33m    phi = ?\u001b[0m\n\u001b[1;37m          ^\u001b[0m\n\u001b[1;31mSyntaxError\u001b[0m\u001b[1;31m:\u001b[0m invalid syntax\n"
     ]
    }
   ],
   "source": [
    "ns = np.vstack((np.linspace(1, 3, 3), np.linspace(4, 6, 3), np.linspace(7, 9, 3)))\n",
    "x = np.linspace(0, L, 200)\n",
    "\n",
    "fig, axes = plt.subplots(3, 3, figsize=(9, 9))\n",
    "\n",
    "for i in range(3):\n",
    "    for j in range(3):\n",
    "        ax = axes[i, j]\n",
    "        n = ns[i, j]\n",
    "        phi = ?\n",
    "        prob =?\n",
    "        # ax.plot() #Comment out this line to plot\n",
    "\n",
    "\n",
    "plt.tight_layout()\n"
   ]
  },
  {
   "cell_type": "markdown",
   "metadata": {},
   "source": [
    "If you go and count how many \"peaks\" are in each box, you will see that it matches n! These are called standing waves, and are a feature of confined waves. The points where the probability is 0 (meaning the particle is forbidden to be thre) are called nodes. "
   ]
  },
  {
   "cell_type": "markdown",
   "metadata": {},
   "source": [
    "### Part d\n",
    "Next lets investigate how changing L affects our solutions. First, plot $\\phi_1(x)$ (n=1) for two different L on the same plot. What do you notice?"
   ]
  },
  {
   "cell_type": "code",
   "execution_count": null,
   "metadata": {},
   "outputs": [],
   "source": [
    "# Make you plot here\n",
    "\n"
   ]
  },
  {
   "cell_type": "markdown",
   "metadata": {},
   "source": [
    "Note that the L=20 nm wavefunction is both skinnier and taller. "
   ]
  },
  {
   "cell_type": "markdown",
   "metadata": {},
   "source": [
    "Now lets explore how this changes our energies. Recall that the energies of a 1D particle in a box are given by \n",
    "$$E_n = \\frac{\\hbar^2}{2m}\\left(\\frac{n\\pi}{L}\\right)^2, \\ n = 1, 2, 3...$$"
   ]
  },
  {
   "cell_type": "markdown",
   "metadata": {},
   "source": [
    "First, plot how energy depends on n. Recall that energies inbetween two different ns are forbidden, so use plt.step instead of plt.plot. "
   ]
  },
  {
   "cell_type": "code",
   "execution_count": 24,
   "metadata": {},
   "outputs": [
    {
     "ename": "SyntaxError",
     "evalue": "invalid syntax (1594159530.py, line 4)",
     "output_type": "error",
     "traceback": [
      "\u001b[1;36m  Cell \u001b[1;32mIn[24], line 4\u001b[1;36m\u001b[0m\n\u001b[1;33m    L = ?\u001b[0m\n\u001b[1;37m        ^\u001b[0m\n\u001b[1;31mSyntaxError\u001b[0m\u001b[1;31m:\u001b[0m invalid syntax\n"
     ]
    }
   ],
   "source": [
    "hbar = sp.constants.hbar #J s\n",
    "e = sp.constants.e\n",
    "me = sp.constants.m_e\n",
    "L = ?\n",
    "\n",
    "ns = np.linspace(1, 20, 20)\n",
    "En = ?\n",
    "En = En/e #Convert to eV\n",
    "\n",
    "# plt.step() #Comment out this line to plot\n"
   ]
  },
  {
   "cell_type": "markdown",
   "metadata": {},
   "source": [
    "This plot makes it clear that energy increases proportional to $n^2$. To see this, look at the height of the step between n=1->n=2 vs n=19->n=20. But what about L? Remake this plot, but now overlay the same curve for a different, significantly smaller L. How do they differ?"
   ]
  },
  {
   "cell_type": "code",
   "execution_count": null,
   "metadata": {},
   "outputs": [],
   "source": [
    "# Make you plot here\n"
   ]
  },
  {
   "cell_type": "markdown",
   "metadata": {},
   "source": [
    "So, we can see that the curve for the smaller L increases faster. This is because L is in the denominator of our expression for E, so smaller L means higher energies"
   ]
  },
  {
   "cell_type": "markdown",
   "metadata": {},
   "source": [
    "Finally, lets put all of our findings together onto one plot. Make 2 subplots right next to each other. Plot the probability distribution for n=1, n=2, n=3, & n=4 in each plot. Add the energy of the state as a constant to your wavefunctions, so that your y-axis is a hybrid of probability and energy. The goal is to space the curves out by energy level. Do this for both the left and the right, but for different L's. "
   ]
  },
  {
   "cell_type": "code",
   "execution_count": 25,
   "metadata": {},
   "outputs": [
    {
     "ename": "SyntaxError",
     "evalue": "invalid syntax (1085858094.py, line 2)",
     "output_type": "error",
     "traceback": [
      "\u001b[1;36m  Cell \u001b[1;32mIn[25], line 2\u001b[1;36m\u001b[0m\n\u001b[1;33m    ns = ?\u001b[0m\n\u001b[1;37m         ^\u001b[0m\n\u001b[1;31mSyntaxError\u001b[0m\u001b[1;31m:\u001b[0m invalid syntax\n"
     ]
    }
   ],
   "source": [
    "fig, axes = plt.subplots(1, 2, figsize=(9, 9))\n",
    "ns = ?\n",
    "hbar = sp.constants.hbar #J s\n",
    "e = sp.constants.e\n",
    "me = sp.constants.m_e\n",
    "scale = 2000\n",
    "\n",
    "L = ?\n",
    "\n",
    "x = np.linspace(0, L, 200)\n",
    "ax = axes[0]\n",
    "Energies1 = np.zeros(5)\n",
    "for n in ns:\n",
    "    phi = ?\n",
    "    prob = ?\n",
    "    prob = prob/max(prob) #Normalize the height probability distribution for plotting purposes\n",
    "    En = ?\n",
    "    En = En/e #Convert to eV\n",
    "    Energies1[n-1] = round(En, 3)\n",
    "    # ax.plot(?)\n",
    "    # ax.set_yticks(scale*Energies1, labels = Energies1)\n",
    "    # ax.set_title(f\"L = {L*1e9} nm\")\n",
    "\n",
    "\n",
    "\n",
    "L = ? #Make this roughly half of your first L\n",
    "x = np.linspace(0, L, 200)\n",
    "ax = axes[1]\n",
    "Energies2 = np.zeros(5)\n",
    "for n in ns:\n",
    "    phi = ?\n",
    "    prob = ?\n",
    "    prob = prob/max(prob)\n",
    "    En = ?\n",
    "    En = En/e #Convert to eV\n",
    "    Energies2[n-1] = round(En, 3)\n",
    "    # ax.plot(?)\n",
    "    # ax.set_yticks(scale*Energies1, labels = Energies1)\n",
    "    # ax.set_title(f\"L = {L*1e9} nm\")\n",
    "\n",
    "\n",
    "\n",
    "\n",
    "plt.tight_layout()\n",
    "#Make the plots have the same y scale\n",
    "y_min = min(min(Energies1), min(Energies2))\n",
    "y_max = max(max(Energies1), max(Energies2))\n",
    "axes[0].set_ylim(y_min, y_max*scale+5)\n",
    "axes[1].set_ylim(y_min, y_max*scale+5)\n"
   ]
  },
  {
   "cell_type": "markdown",
   "metadata": {},
   "source": [
    "We can see that the solutions for the smaller L are spaced farther appart, as the energies grow at a faster rate. But, the shape of the wavefunctions remains the same. "
   ]
  },
  {
   "cell_type": "markdown",
   "metadata": {},
   "source": [
    "## Section 2: 2D Particle in an Infinite Potential Well\n",
    "Now that we have a greater understanding of a 1D particle in a box, lets start moving to higher dimensions. Recall for 2D, stationary state solutions have the form \n",
    "$$\\phi_{n_x, n_y}(x, y) = \\sqrt{\\frac{2^2}{L_X^2+L_y^2}}\\sin\\left(\\frac{n_x \\pi x}{L_x}\\right)\\sin\\left(\\frac{n_y \\pi y}{L_y}\\right)$$"
   ]
  },
  {
   "cell_type": "markdown",
   "metadata": {},
   "source": [
    "Lets start out simple. Plot both $\\phi_{n_x, n_y}$ and $|\\phi_{n_x, n_y}|^2$ for $n_x=n_y=1$ and $L_x = L_y$"
   ]
  },
  {
   "cell_type": "code",
   "execution_count": 26,
   "metadata": {},
   "outputs": [
    {
     "ename": "SyntaxError",
     "evalue": "invalid syntax (1710585367.py, line 1)",
     "output_type": "error",
     "traceback": [
      "\u001b[1;36m  Cell \u001b[1;32mIn[26], line 1\u001b[1;36m\u001b[0m\n\u001b[1;33m    L_x = ?\u001b[0m\n\u001b[1;37m          ^\u001b[0m\n\u001b[1;31mSyntaxError\u001b[0m\u001b[1;31m:\u001b[0m invalid syntax\n"
     ]
    }
   ],
   "source": [
    "L_x = ?\n",
    "n_x = ?\n",
    "\n",
    "L_y = ?\n",
    "n_y = ?\n",
    "x = np.linspace(0, L_x, 200)\n",
    "y = np.linspace(0, L_y, 200)\n",
    "x, y = np.meshgrid(x, y)\n",
    "\n",
    "phi = ?\n",
    "\n",
    "fig = plt.figure(figsize=(10, 10))\n",
    "ax = fig.add_subplot(111, projection='3d')\n",
    "\n",
    "ax.plot_surface(?)\n",
    "ax.figure.tight_layout()\n",
    "\n"
   ]
  },
  {
   "cell_type": "code",
   "execution_count": 27,
   "metadata": {},
   "outputs": [],
   "source": [
    "#Plot the probabiliy distribution here\n"
   ]
  },
  {
   "cell_type": "markdown",
   "metadata": {},
   "source": [
    "Rather unsuprisingly, the plots have a very similar shape as the 1D solution, just extended to 2 dimensions. "
   ]
  },
  {
   "cell_type": "markdown",
   "metadata": {},
   "source": [
    "Not lets start playing around with n. Create another grid of plots, 4x4. Organize according to the n matrix below, where each point is denoted as $(n_x, n_y)$. Make a grid for both $\\phi_{n_x, n_y}$ and $|\\phi_{n_x, n_y}|^2$. Keep $L_x$ and $L_y$ the same for now. \n",
    "$$\\begin{bmatrix} (1, 1) & (1, 2) & (1, 3) & (1, 4) \\\\ \n",
    "(2, 1) & (2, 2) & (2, 3) & (2, 4) \\\\\n",
    "(3, 1) & (2, 2) & (3, 3) & (3, 4) \\\\\n",
    "(4, 1) & (2, 2) & (4, 3) & (4, 4) \\\\ \\end{bmatrix}$$"
   ]
  },
  {
   "cell_type": "code",
   "execution_count": 30,
   "metadata": {},
   "outputs": [
    {
     "ename": "SyntaxError",
     "evalue": "invalid syntax (78445792.py, line 6)",
     "output_type": "error",
     "traceback": [
      "\u001b[1;36m  Cell \u001b[1;32mIn[30], line 6\u001b[1;36m\u001b[0m\n\u001b[1;33m    L_x = ?\u001b[0m\n\u001b[1;37m          ^\u001b[0m\n\u001b[1;31mSyntaxError\u001b[0m\u001b[1;31m:\u001b[0m invalid syntax\n"
     ]
    }
   ],
   "source": [
    "fig, axs = plt.subplots(nrows=4, ncols=4, subplot_kw={'projection': '3d'}, figsize=(14, 12))\n",
    "\n",
    "\n",
    "\n",
    "\n",
    "L_x = ?\n",
    "\n",
    "L_y = ?\n",
    "x = np.linspace(0, L_x, 200)\n",
    "y = np.linspace(0, L_y, 200)\n",
    "x, y = np.meshgrid(x, y)\n",
    "\n",
    "\n",
    "for i in range(4):\n",
    "    for j in range(4):\n",
    "        n_y = ?\n",
    "        n_x = ?\n",
    "        ax = axs[i, j]\n",
    "        phi = ?\n",
    "        ax.plot_surface(?)\n",
    "        ax.set_title(f\"$n_x={n_x}, n_y={n_y}$\")\n",
    "        ax.figure.tight_layout()\n",
    "\n",
    "#Now plot probability\n",
    "fig, axs = plt.subplots(nrows=4, ncols=4, subplot_kw={'projection': '3d'}, figsize=(14, 12))\n",
    "for i in range(4):\n",
    "    for j in range(4):\n",
    "        n_y = ?\n",
    "        n_x = ?\n",
    "        ax = axs[i, j]\n",
    "        phi = ?\n",
    "        ax.plot_surface(?)\n",
    "        ax.set_title(f\"$n_x={n_x}, n_y={n_y}$\")\n",
    "        ax.figure.tight_layout()\n",
    "        "
   ]
  },
  {
   "cell_type": "markdown",
   "metadata": {},
   "source": [
    "So just like with the one dimensional case, n controls how many \"peaks\" we see along a given direction. So for the $n_x=n_y=4$, we get 16 peaks. Also, note that the probability plots remain strictly positive, while the plots of $\\phi$ can go negative. "
   ]
  },
  {
   "cell_type": "markdown",
   "metadata": {},
   "source": [
    "Next, play around with L so that the particle is no longer confined to a symmetric box, i.e. change $L_x$ and $L_y$ such that $L_x\\ne L_y$. You can choose the ns to be whatever you want, but something like $n_x = 3, n_y = 4$ might help you see the effect more clearly. However, when you plot the function make sure your x and y scales are the same so that you are still plotting over a square. "
   ]
  },
  {
   "cell_type": "code",
   "execution_count": 31,
   "metadata": {},
   "outputs": [],
   "source": [
    "# Make you plot here"
   ]
  },
  {
   "cell_type": "markdown",
   "metadata": {},
   "source": [
    "So the effect on the spatial probability distribution is pretty intuitive. The spikes are elongated in the direction with greater L. Lets take a look at the effect this has on energy. Recall the relevant expression is \n",
    "$$E_{n_x, n_y} = \\frac{\\hbar^2 \\pi^2}{2m}\\left(\\frac{n_x^2}{L_x^2} + \\frac{n_y^2}{L_y^2}\\right)$$"
   ]
  },
  {
   "cell_type": "markdown",
   "metadata": {},
   "source": [
    "Start by making a figure that plots energy along the y axis. Add flat horizontal lines at the energy values for different combinations of $n_x$ and $n_y$, with both ranging from 1 to 4. How many lines to do you see?"
   ]
  },
  {
   "cell_type": "code",
   "execution_count": 33,
   "metadata": {},
   "outputs": [
    {
     "ename": "SyntaxError",
     "evalue": "invalid syntax (1153477571.py, line 10)",
     "output_type": "error",
     "traceback": [
      "\u001b[1;36m  Cell \u001b[1;32mIn[33], line 10\u001b[1;36m\u001b[0m\n\u001b[1;33m    nx = ?\u001b[0m\n\u001b[1;37m         ^\u001b[0m\n\u001b[1;31mSyntaxError\u001b[0m\u001b[1;31m:\u001b[0m invalid syntax\n"
     ]
    }
   ],
   "source": [
    "Lx = 50e-9\n",
    "\n",
    "Ly = 50e-9\n",
    "\n",
    "Es = np.zeros(16)\n",
    "plt.figure()\n",
    "k = 0\n",
    "for i in range(4):\n",
    "    for j in range(4):\n",
    "        nx = ?\n",
    "        ny = ?\n",
    "        E = ?\n",
    "        Es[k] = E/e #Convert to eV \n",
    "        plt.plot(np.linspace(-5, 5, 10), Es[k]*np.ones(10), label = f\"$n_x = {nx}, n_y = {ny}$\")\n",
    "        k+=1\n",
    "        plt.xticks([])\n",
    "        plt.ylabel(\"Energy (eV)\")\n",
    "        \n",
    "\n",
    "# plt.legend()\n"
   ]
  },
  {
   "cell_type": "markdown",
   "metadata": {},
   "source": [
    "If you counted correctly, you should see 10 lines. But we expected to se 16, as thats the total number of possible ways to combine $n_x \\in [1, 4]$ and $n_y \\in [1, 4]$. What gives? What we are seeing is the concept of degeneracy, which is when two states with different quantum numbers (in this case $n_x$  and $n_y$) have the same energy. To see why, just look again at the expression for energy. We have $L_x=L_y$, so we can write\n",
    "$$E_{n_x, n_y} = \\frac{\\hbar^2 \\pi^2}{2mL^2}\\left(n_x^2 + n_y^2\\right)$$\n",
    "Now, if you plug in for example 1 and 2, \n",
    "$$E_{n_x=1, n_y=2} = \\frac{\\hbar^2 \\pi^2}{2mL^2}\\left(1^2 + 2^2\\right) = E_{n_x=2, n_y=1} = \\frac{\\hbar^2 \\pi^2}{2mL^2}\\left(2^2 + 1^2\\right) = \\frac{5\\hbar^2 \\pi^2}{2mL^2}$$"
   ]
  },
  {
   "cell_type": "markdown",
   "metadata": {},
   "source": [
    "But, what happens if we make the box non-symmetric again? Change one of your Ls and remake the above plot. "
   ]
  },
  {
   "cell_type": "code",
   "execution_count": 32,
   "metadata": {},
   "outputs": [],
   "source": [
    "# Make your plot here\n"
   ]
  },
  {
   "cell_type": "markdown",
   "metadata": {},
   "source": [
    "If you count the lines again, you should get 16. By removing the symmetry of our confinement, we broke our degeneracy!"
   ]
  },
  {
   "cell_type": "markdown",
   "metadata": {},
   "source": [
    "## Section 3: Superpositions of Stationary States\n",
    "We've talked about how superposition is one of the special features of quantum mechanics that quantum computers make use of before. Here's your chance to see it in action! Recall that stationary states are states that have well-defined energies and time independent probability distributsions. It turns out that any general wavefunction for a particle in a box can be decomposoed as a sum of stationary states:\n",
    "$$\\Psi(x, t) = \\sum_{n=1}^{\\infty} a_n \\phi_n(x) e^{-i\\frac{E_n}{\\hbar}t}$$\n",
    "The $e^{-i\\frac{E_n}{\\hbar}t}$ factor comes from our time solution after performing seperation of variables on the time dependent Schrodinger Equation. The probability of measuring any one state is $|a_n|^2$, and we also must enforce $\\sum_n |a_n|^2 = 1$ in order to have a properly normalized distribution. In general, the probability distribution of this $\\Psi(x, t)$ will have a time dependence. To see why, lets take a simple example of a $\\Psi$ that is comprised of two stationary states:\n",
    "$$\\Psi(x, t) = \\frac{1}{\\sqrt{2}}\\phi_2(x)e^{-i\\frac{E_2}{\\hbar}t} + \\frac{1}{\\sqrt{2}}\\phi_3(x)e^{-i\\frac{E_3}{\\hbar}t}$$\n",
    "\n",
    "$$\\Rightarrow \\Psi^*(x, t)\\Psi(x, t) = \\left[\\frac{1}{\\sqrt{2}}\\phi_2(x)e^{i\\frac{E_2}{\\hbar}t} + \\frac{1}{\\sqrt{2}}\\phi_3(x)e^{i\\frac{E_3}{\\hbar}t}\\right]\\left[\\frac{1}{\\sqrt{2}}\\phi_2(x)e^{-i\\frac{E_2}{\\hbar}t} + \\frac{1}{\\sqrt{2}}\\phi_3(x)e^{-i\\frac{E_3}{\\hbar}t}\\right]$$\n",
    "$$ = \\frac{1}{2}\\phi_2(x)^2 + \\frac{1}{2}\\phi_3(x)^2 + \\frac{1}{2}\\phi_2(x)\\phi_3(x)\\left(e^{i\\frac{(E_2-E_3)}{\\hbar}t} + e^{-i\\frac{(E_2-E_3)}{\\hbar}t}\\right) $$\n",
    "\n",
    "$$ = \\frac{1}{2}\\phi_2(x)^2 + \\frac{1}{2}\\phi_3(x)^2 + \\phi_2(x)\\phi_3(x)\\cos\\left(\\frac{E_2-E_3}{\\hbar}t\\right) $$\n",
    "\n",
    "Compare this to just a single stationary state: \n",
    "$$\\mathbb{P}(x) = \\Psi^*\\Psi = \\left( \\sqrt{\\frac{2}{L}}\\sin\\left(\\frac{n\\pi x}{L}\\right)e^{i\\frac{E_n}{\\hbar}t}\\right)\\left(\\sqrt{\\frac{2}{L}}\\sin\\left(\\frac{n\\pi x}{L}\\right)e^{-i\\frac{E_n}{\\hbar}t}\\right) = \\frac{2}{L}\\sin^2\\left(\\frac{n\\pi x}{L}\\right)$$"
   ]
  },
  {
   "cell_type": "markdown",
   "metadata": {},
   "source": [
    "Lets investigate what this might look like. Plot both $\\Psi(x, t)$ and $|\\Psi(x, t)|^2$ for t=0, and for the above $\\Psi(x, t)$. "
   ]
  },
  {
   "cell_type": "code",
   "execution_count": 34,
   "metadata": {},
   "outputs": [],
   "source": [
    "# Make your psi plot here\n"
   ]
  },
  {
   "cell_type": "code",
   "execution_count": 35,
   "metadata": {},
   "outputs": [],
   "source": [
    "# Make your |psi|^2 plot here\n",
    "\n"
   ]
  },
  {
   "cell_type": "markdown",
   "metadata": {},
   "source": [
    "Now increment the time a little bit, and again plot both $\\Psi(x, t)$ and $|\\Psi(x, t)|^2$ for this new value of t. Does the shape change?"
   ]
  },
  {
   "cell_type": "code",
   "execution_count": 36,
   "metadata": {},
   "outputs": [],
   "source": [
    "# Make your plot here\n"
   ]
  },
  {
   "cell_type": "markdown",
   "metadata": {},
   "source": [
    "This concludes the regular guided walkthrough. You are welcome to keep playing around with variables and seeing how the plot changes. In the above example, both coefficients were set to $\\frac{1}{\\sqrt{2}}$, so that the probability of measuring either state was $1/2$. Play around with these coefficients and the n values for your stationary states to see what the different plots look like for different mixes of states. You can even make $\\Psi$ a superposition of 3 or more stationary states. Just remember to normalize ($\\sum_n |a_n|^2 = 1$)!"
   ]
  },
  {
   "cell_type": "markdown",
   "metadata": {},
   "source": [
    "One idea for a more open ended project would be to figure out how to make an animation that shows the probability distribution of $|\\Psi|^2$ evolving over time. "
   ]
  },
  {
   "cell_type": "markdown",
   "metadata": {},
   "source": [
    "Finally, below is a challenge section that walks you through how to solve Shrodinger's equation in 1d for a periodic potential. "
   ]
  },
  {
   "cell_type": "markdown",
   "metadata": {},
   "source": [
    "## Challenge Section - Solving 1D Shrodinger's Equation for a Periodic Potential"
   ]
  },
  {
   "cell_type": "markdown",
   "metadata": {},
   "source": [
    "## Particle in a periodic potential\n",
    " $$H=-\\frac{\\hbar^2 \\nabla^2}{2 m}+U(r)$$\n",
    " where $U(r)$ is a periodic function, $U(r)=U(r+R)$\n",
    "## Bloch's Theorem:\n",
    " The eigenstates are plane wave times a periodic function\n",
    " $$\\psi_{n, k}(r)=e^{i k r} u_{n, k}(r)$$\n",
    " $$u_{n, k}(r)=u_{n, k}(r+R)$$\n",
    "# Proof:\n",
    "Fourier transform $U(\\boldsymbol{r})=\\sum_{K} U_K e^{i K r}, K=2\\pi n/R$\n",
    "$U_{\\boldsymbol{K}}=\\int d \\boldsymbol{r} U(\\boldsymbol{r}) e^{-i \\boldsymbol{K} \\boldsymbol{r}} d \\boldsymbol{r} / R$\n",
    " Plug in that with ansatz $\\psi(\\boldsymbol{r})=\\sum_{\\boldsymbol{P}} c_P e^{i \\boldsymbol{P} \\boldsymbol{r}}, P=2\\pi p/R$\n",
    " $$\\left(\\frac{\\hbar^2 p^2}{2 m}-E\\right) c_{\\boldsymbol{P}}+\\sum_{\\boldsymbol{K}} U_{\\boldsymbol{K}} c_{\\boldsymbol{P}-\\boldsymbol{K}}=0$$\n",
    " $$u_{\\boldsymbol{k}}(\\boldsymbol{r})=\\sum_{\\boldsymbol{K}} c_{\\boldsymbol{k}-\\boldsymbol{K}} e^{-i \\boldsymbol{K} \\boldsymbol{r}}$$"
   ]
  },
  {
   "cell_type": "markdown",
   "metadata": {},
   "source": [
    "## Application: Cooper-pair Box qubit\n",
    "See also https://qiskit-community.github.io/qiskit-metal/tut/4-Analysis/4.34-Transmon-qubit-CPB-hamiltonian-charge-basis.html\n",
    "<!-- ![%E5%9B%BE%E7%89%87.png](attachment:%E5%9B%BE%E7%89%87.png) -->\n",
    " $$\\mathfrak{L}_{\\mathrm{JJ}}=\\frac{C_{\\mathrm{J}}\\left(\\dot{\\Phi}_1-\\dot{\\Phi}_2\\right)^2}{2}-E_{\\mathrm{J}}(1-\\cos \\phi)$$\n",
    " $$\\mathfrak{L}_{\\mathrm{CPB}}=\\frac{C_{\\mathrm{g}}\\left(\\dot{\\Phi}-V_{\\mathrm{g}}\\right)^2}{2}+\\frac{C_{\\mathrm{J}} \\dot{\\Phi}^2}{2}-E_{\\mathrm{J}}\\left[1-\\cos \\left(\\frac{2 \\pi \\Phi}{\\Phi_0}\\right)\\right]$$"
   ]
  },
  {
   "cell_type": "markdown",
   "metadata": {},
   "source": [
    " So the problem effectively become\n",
    " $H=-\\frac{\\hbar^2}{2 m} \\frac{d^2}{d x^2}-E_J \\cos (2 \\pi x / a)$\n",
    " Notice that Fourier transform of $\\cos$ is just $\\cos(\\phi)=\\left(e^{i \\phi}+e^{-i \\phi}\\right) / 2$\n",
    " Plugging in the ansatz gives the following coupled equations\n",
    " $\\left(4 E_C p^2+E\\right) c_p+\\frac{E_J}{2}\\left(c_{p-1}+c_{p+1}\\right)=0, E_C=\\frac{4\\pi^2\\hbar^2}{8 m_e a^2}$\n",
    " In matrix form\n",
    "$$\\left(\\begin{array}{ccccc}\n",
    "\\ldots & \\ldots & & & \\\\\n",
    "\\ldots & 4 E_C{ }(p-1)^2 & E_J / 2 & & \\\\\n",
    "& E_J / 2 & 4 E_C p^2 & E_J / 2 & \\\\\n",
    "& & E_J / 2 & 4 E_C(p+1)^2 & \\ldots \\\\\n",
    "& & & \\ldots & \\ldots\n",
    "\\end{array}\\right)$$"
   ]
  },
  {
   "cell_type": "markdown",
   "metadata": {},
   "source": [
    "# Energy levels\n",
    "### Problem 1: Construct the matrix above as H"
   ]
  },
  {
   "cell_type": "code",
   "execution_count": null,
   "metadata": {},
   "outputs": [],
   "source": [
    "def energies(k, Nmax = 30, EC=0.2, EJ=40): # Nmax is the largest number of |p|\n",
    "    # Write your code here\n",
    "    #######\n",
    "        \n",
    "    H = \n",
    "    \n",
    "    #######\n",
    "    evs = LA.eigvalsh(H)  # Diagonalizes H\n",
    "    return evs[:10]  # Returns the first 10 energies"
   ]
  },
  {
   "cell_type": "code",
   "execution_count": null,
   "metadata": {},
   "outputs": [],
   "source": [
    "# Construct energy band for the lowest three states:\n",
    "k_list  = np.linspace(-0.5,0.5,100)\n",
    "e0_list = []\n",
    "e1_list = []\n",
    "e2_list = []\n",
    "for k in k_list:\n",
    "    evs = energies(k, EC=1, EJ=1)\n",
    "    e0_list.append(evs[0])\n",
    "    e1_list.append(evs[1])\n",
    "    e2_list.append(evs[2])"
   ]
  },
  {
   "cell_type": "markdown",
   "metadata": {},
   "source": [
    "### Compare your plot with that in the link above"
   ]
  },
  {
   "cell_type": "code",
   "execution_count": 1,
   "metadata": {},
   "outputs": [
    {
     "ename": "NameError",
     "evalue": "name 'plt' is not defined",
     "output_type": "error",
     "traceback": [
      "\u001b[1;31m---------------------------------------------------------------------------\u001b[0m",
      "\u001b[1;31mNameError\u001b[0m                                 Traceback (most recent call last)",
      "Cell \u001b[1;32mIn[1], line 1\u001b[0m\n\u001b[1;32m----> 1\u001b[0m \u001b[43mplt\u001b[49m\u001b[38;5;241m.\u001b[39mplot(q_list, e0_list)\n\u001b[0;32m      2\u001b[0m plt\u001b[38;5;241m.\u001b[39mplot(q_list, e1_list)\n\u001b[0;32m      3\u001b[0m plt\u001b[38;5;241m.\u001b[39mplot(q_list, e2_list)\n",
      "\u001b[1;31mNameError\u001b[0m: name 'plt' is not defined"
     ]
    }
   ],
   "source": [
    "plt.plot(k_list, e0_list)\n",
    "plt.plot(k_list, e1_list)\n",
    "plt.plot(k_list, e2_list)\n",
    "plt.show()\n",
    "# The plot demonstrates the qubit's sensitivity to charge noise"
   ]
  },
  {
   "cell_type": "markdown",
   "metadata": {},
   "source": [
    "# Wavefunctions"
   ]
  },
  {
   "cell_type": "markdown",
   "metadata": {},
   "source": [
    "### From now on we take charge deviation $k=0$.\n",
    "\n",
    "### Paste your code for previous problem here."
   ]
  },
  {
   "cell_type": "code",
   "execution_count": null,
   "metadata": {},
   "outputs": [],
   "source": [
    "Nmax = 30\n",
    "EC = 0.2\n",
    "EJ = 50\n",
    "##################\n",
    "\n",
    "H = \n",
    "\n",
    "##################\n",
    "evs, ekets = LA.eigh(H)"
   ]
  },
  {
   "cell_type": "markdown",
   "metadata": {},
   "source": [
    "# Plot the $n^{th}$ energy state"
   ]
  },
  {
   "cell_type": "markdown",
   "metadata": {},
   "source": [
    "### Problem 2: Construct the corresponding wavefunction as \n",
    "# $$u_{{k}}({x})=\\sum_{{p}}c_pe^{-i{px}}$$"
   ]
  },
  {
   "cell_type": "code",
   "execution_count": 4,
   "metadata": {},
   "outputs": [
    {
     "ename": "SyntaxError",
     "evalue": "invalid syntax (3215020208.py, line 8)",
     "output_type": "error",
     "traceback": [
      "\u001b[1;36m  Cell \u001b[1;32mIn[4], line 8\u001b[1;36m\u001b[0m\n\u001b[1;33m    u +=\u001b[0m\n\u001b[1;37m         ^\u001b[0m\n\u001b[1;31mSyntaxError\u001b[0m\u001b[1;31m:\u001b[0m invalid syntax\n"
     ]
    }
   ],
   "source": [
    "def bloch_wf(x, Cvec):\n",
    "    u=0\n",
    "    for n, c in enumerate(Cvec):\n",
    "        \n",
    "    # Write your code here\n",
    "    #######\n",
    "        \n",
    "        u += \n",
    "        \n",
    "    #######\n",
    "    return u\n",
    "\n",
    "n = 2\n",
    "Cvec = ekets[:,n]\n",
    "x_list = np.linspace(-2.5*np.pi,2.5*np.pi,300)\n",
    "y_list = []\n",
    "for x in x_list:\n",
    "    y_list.append(np.abs(bloch_wf(x,Cvec))**2)\n",
    "plt.plot(x_list,y_list)\n",
    "plt.show()"
   ]
  },
  {
   "cell_type": "markdown",
   "metadata": {},
   "source": [
    "### Compare your plot with that in the link above"
   ]
  }
 ],
 "metadata": {
  "kernelspec": {
   "display_name": "Default",
   "language": "python",
   "name": "python3"
  },
  "language_info": {
   "codemirror_mode": {
    "name": "ipython",
    "version": 3
   },
   "file_extension": ".py",
   "mimetype": "text/x-python",
   "name": "python",
   "nbconvert_exporter": "python",
   "pygments_lexer": "ipython3",
   "version": "3.11.0"
  }
 },
 "nbformat": 4,
 "nbformat_minor": 2
}
